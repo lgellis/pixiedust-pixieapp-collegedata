{
 "cells": [
  {
   "cell_type": "code",
   "execution_count": 8,
   "metadata": {
    "collapsed": false
   },
   "outputs": [
    {
     "name": "stdout",
     "output_type": "stream",
     "text": [
      "Requirement already satisfied: pixiedust in /Users/lauraellis/Library/Enthought/Canopy_64bit/User/lib/python2.7/site-packages\r\n",
      "Requirement already satisfied: mpld3 in /Users/lauraellis/Library/Enthought/Canopy_64bit/User/lib/python2.7/site-packages (from pixiedust)\r\n",
      "Requirement already satisfied: lxml in /Users/lauraellis/Library/Enthought/Canopy_64bit/User/lib/python2.7/site-packages (from pixiedust)\r\n",
      "Requirement already satisfied: geojson in /Users/lauraellis/Library/Enthought/Canopy_64bit/User/lib/python2.7/site-packages (from pixiedust)\r\n"
     ]
    }
   ],
   "source": [
    "# Check out instructions for installing pixiedust: https://ibm-cds-labs.github.io/pixiedust/install.html\n",
    "\n",
    "# Options for install:\n",
    "\n",
    "# 1) From terminal execute commands: pip install pixiedust, pip install matplotlib, pip install bokeh, pip install seaborn\n",
    "\n",
    "# 2) Uncomment the following lines to install/upgrade the PixieDust library and required libraries\n",
    "#! pip install pixiedust\n",
    "#! pip install matplotlib\n",
    "#! pip install bokeh\n",
    "#! pip install seaborn"
   ]
  },
  {
   "cell_type": "code",
   "execution_count": 10,
   "metadata": {
    "collapsed": false
   },
   "outputs": [],
   "source": [
    "# Import all needed libraries\n",
    "# Note the libraries are only required for local installation.  \n",
    "# If you are using data science experience you these will already be installed: https://datascience.ibm.com/\n",
    "\n",
    "from pixiedust.display.app import *\n",
    "import pixiedust\n",
    "import pandas as pd\n",
    "import bokeh\n",
    "import seaborn"
   ]
  },
  {
   "cell_type": "code",
   "execution_count": 11,
   "metadata": {
    "collapsed": false
   },
   "outputs": [],
   "source": [
    "# Gather college data from the ISLR project.  \n",
    "# More details on this and other data sets provided by ISLR available here: https://cran.r-project.org/web/packages/ISLR/ISLR.pdf\n",
    "collegedata = pd.read_csv('http://www-bcf.usc.edu/~gareth/ISL/College.csv')"
   ]
  },
  {
   "cell_type": "code",
   "execution_count": 12,
   "metadata": {
    "collapsed": false,
    "scrolled": true
   },
   "outputs": [
    {
     "data": {
      "text/html": [
       "<div>\n",
       "<table border=\"1\" class=\"dataframe\">\n",
       "  <thead>\n",
       "    <tr style=\"text-align: right;\">\n",
       "      <th></th>\n",
       "      <th>Unnamed: 0</th>\n",
       "      <th>Private</th>\n",
       "      <th>Apps</th>\n",
       "      <th>Accept</th>\n",
       "      <th>Enroll</th>\n",
       "      <th>Top10perc</th>\n",
       "      <th>Top25perc</th>\n",
       "      <th>F.Undergrad</th>\n",
       "      <th>P.Undergrad</th>\n",
       "      <th>Outstate</th>\n",
       "      <th>Room.Board</th>\n",
       "      <th>Books</th>\n",
       "      <th>Personal</th>\n",
       "      <th>PhD</th>\n",
       "      <th>Terminal</th>\n",
       "      <th>S.F.Ratio</th>\n",
       "      <th>perc.alumni</th>\n",
       "      <th>Expend</th>\n",
       "      <th>Grad.Rate</th>\n",
       "    </tr>\n",
       "  </thead>\n",
       "  <tbody>\n",
       "    <tr>\n",
       "      <th>0</th>\n",
       "      <td>Abilene Christian University</td>\n",
       "      <td>Yes</td>\n",
       "      <td>1660</td>\n",
       "      <td>1232</td>\n",
       "      <td>721</td>\n",
       "      <td>23</td>\n",
       "      <td>52</td>\n",
       "      <td>2885</td>\n",
       "      <td>537</td>\n",
       "      <td>7440</td>\n",
       "      <td>3300</td>\n",
       "      <td>450</td>\n",
       "      <td>2200</td>\n",
       "      <td>70</td>\n",
       "      <td>78</td>\n",
       "      <td>18.1</td>\n",
       "      <td>12</td>\n",
       "      <td>7041</td>\n",
       "      <td>60</td>\n",
       "    </tr>\n",
       "    <tr>\n",
       "      <th>1</th>\n",
       "      <td>Adelphi University</td>\n",
       "      <td>Yes</td>\n",
       "      <td>2186</td>\n",
       "      <td>1924</td>\n",
       "      <td>512</td>\n",
       "      <td>16</td>\n",
       "      <td>29</td>\n",
       "      <td>2683</td>\n",
       "      <td>1227</td>\n",
       "      <td>12280</td>\n",
       "      <td>6450</td>\n",
       "      <td>750</td>\n",
       "      <td>1500</td>\n",
       "      <td>29</td>\n",
       "      <td>30</td>\n",
       "      <td>12.2</td>\n",
       "      <td>16</td>\n",
       "      <td>10527</td>\n",
       "      <td>56</td>\n",
       "    </tr>\n",
       "    <tr>\n",
       "      <th>2</th>\n",
       "      <td>Adrian College</td>\n",
       "      <td>Yes</td>\n",
       "      <td>1428</td>\n",
       "      <td>1097</td>\n",
       "      <td>336</td>\n",
       "      <td>22</td>\n",
       "      <td>50</td>\n",
       "      <td>1036</td>\n",
       "      <td>99</td>\n",
       "      <td>11250</td>\n",
       "      <td>3750</td>\n",
       "      <td>400</td>\n",
       "      <td>1165</td>\n",
       "      <td>53</td>\n",
       "      <td>66</td>\n",
       "      <td>12.9</td>\n",
       "      <td>30</td>\n",
       "      <td>8735</td>\n",
       "      <td>54</td>\n",
       "    </tr>\n",
       "    <tr>\n",
       "      <th>3</th>\n",
       "      <td>Agnes Scott College</td>\n",
       "      <td>Yes</td>\n",
       "      <td>417</td>\n",
       "      <td>349</td>\n",
       "      <td>137</td>\n",
       "      <td>60</td>\n",
       "      <td>89</td>\n",
       "      <td>510</td>\n",
       "      <td>63</td>\n",
       "      <td>12960</td>\n",
       "      <td>5450</td>\n",
       "      <td>450</td>\n",
       "      <td>875</td>\n",
       "      <td>92</td>\n",
       "      <td>97</td>\n",
       "      <td>7.7</td>\n",
       "      <td>37</td>\n",
       "      <td>19016</td>\n",
       "      <td>59</td>\n",
       "    </tr>\n",
       "    <tr>\n",
       "      <th>4</th>\n",
       "      <td>Alaska Pacific University</td>\n",
       "      <td>Yes</td>\n",
       "      <td>193</td>\n",
       "      <td>146</td>\n",
       "      <td>55</td>\n",
       "      <td>16</td>\n",
       "      <td>44</td>\n",
       "      <td>249</td>\n",
       "      <td>869</td>\n",
       "      <td>7560</td>\n",
       "      <td>4120</td>\n",
       "      <td>800</td>\n",
       "      <td>1500</td>\n",
       "      <td>76</td>\n",
       "      <td>72</td>\n",
       "      <td>11.9</td>\n",
       "      <td>2</td>\n",
       "      <td>10922</td>\n",
       "      <td>15</td>\n",
       "    </tr>\n",
       "  </tbody>\n",
       "</table>\n",
       "</div>"
      ],
      "text/plain": [
       "                     Unnamed: 0 Private  Apps  Accept  Enroll  Top10perc  \\\n",
       "0  Abilene Christian University     Yes  1660    1232     721         23   \n",
       "1            Adelphi University     Yes  2186    1924     512         16   \n",
       "2                Adrian College     Yes  1428    1097     336         22   \n",
       "3           Agnes Scott College     Yes   417     349     137         60   \n",
       "4     Alaska Pacific University     Yes   193     146      55         16   \n",
       "\n",
       "   Top25perc  F.Undergrad  P.Undergrad  Outstate  Room.Board  Books  Personal  \\\n",
       "0         52         2885          537      7440        3300    450      2200   \n",
       "1         29         2683         1227     12280        6450    750      1500   \n",
       "2         50         1036           99     11250        3750    400      1165   \n",
       "3         89          510           63     12960        5450    450       875   \n",
       "4         44          249          869      7560        4120    800      1500   \n",
       "\n",
       "   PhD  Terminal  S.F.Ratio  perc.alumni  Expend  Grad.Rate  \n",
       "0   70        78       18.1           12    7041         60  \n",
       "1   29        30       12.2           16   10527         56  \n",
       "2   53        66       12.9           30    8735         54  \n",
       "3   92        97        7.7           37   19016         59  \n",
       "4   76        72       11.9            2   10922         15  "
      ]
     },
     "execution_count": 12,
     "metadata": {},
     "output_type": "execute_result"
    }
   ],
   "source": [
    "#preview collegedata\n",
    "collegedata.head()"
   ]
  },
  {
   "cell_type": "code",
   "execution_count": 13,
   "metadata": {
    "collapsed": false,
    "pixiedust": {
     "displayParams": {
      "aggregation": "AVG",
      "chartsize": "54",
      "charttype": "stacked",
      "handlerId": "barChart",
      "keyFields": "Private",
      "legend": "true",
      "mpld3": "false",
      "rendererId": "bokeh",
      "rowCount": "500",
      "valueFields": "Grad.Rate"
     }
    }
   },
   "outputs": [
    {
     "data": {
      "text/html": [
       "<style type=\"text/css\">.pd_warning{display:none;}</style><div class=\"pd_warning\"><em>Hey, there's something awesome here! To see it, open this notebook outside GitHub, in a viewer like Jupyter</em></div>"
      ],
      "text/plain": [
       "<IPython.core.display.HTML object>"
      ]
     },
     "metadata": {},
     "output_type": "display_data"
    },
    {
     "data": {
      "text/html": [
       "<style type=\"text/css\">.pd_warning{display:none;}</style><div class=\"pd_warning\"><em>Hey, there's something awesome here! To see it, open this notebook outside GitHub, in a viewer like Jupyter</em></div>"
      ],
      "text/plain": [
       "<IPython.core.display.HTML object>"
      ]
     },
     "metadata": {},
     "output_type": "display_data"
    }
   ],
   "source": [
    "# Preview collegedata using pixiedust\n",
    "# Play with the data tabular preview, data visualizations and data export\n",
    "display(collegedata)\n",
    "\n",
    "# Prework for PixieApps - Find a view you like and in the top nav select: view > cell toolbar > edit metadata.\n",
    "# take note of the values in \"display params\".  You will use these values in the next cell for PixieApps"
   ]
  },
  {
   "cell_type": "code",
   "execution_count": 14,
   "metadata": {
    "collapsed": false
   },
   "outputs": [],
   "source": [
    "# Create your PixieApp\n",
    "\n",
    "# Step 1 - Modify the charts.  Take the values found in \"Prework for PixieApps\" and modify the values after \"pd_options=\"\n",
    "\n",
    "# Step 2 - Modify the surrounding HTML\n",
    "# If you don't know html (like me) you can just use any html online editor to create the text.  \n",
    "# Example: https://html-online.com/\n",
    "\n",
    "from pixiedust.display.app import *\n",
    "@PixieApp\n",
    "class CollegeData:\n",
    "    @route()\n",
    "    def main(self):\n",
    "        return \"\"\"\n",
    "\n",
    "        <br>\n",
    "        <h1 style=\"text-align: center;\">Private vs Public College Data Summary </h1>\n",
    "        <br>\n",
    "        <img src=\"http://www.reynolds.edu/get_started/images/Advance-College-Academy-banner.jpg\" />\n",
    "\n",
    "        </div>\n",
    "        <div class=\"col-sm-10\"/>\n",
    "        <br>\n",
    "        <br>\n",
    "        <h2 style=\"text-align: center;\">Key Insights</h2>\n",
    "        <p>&nbsp;</p>\n",
    "        \n",
    "        <table>\n",
    "        <tbody>\n",
    "        <tr>\n",
    "        <td>\n",
    "        <p style=\"text-align: center;\">Student to Faculty Ratio</p>\n",
    "        <p>&nbsp;</p>\n",
    "        <p><div pd_options=\"handlerId=barChart;keyFields=Private;valueFields=S.F.Ratio;aggregation=AVG;rendererId=bokeh;legend=true;chartsize=40\" \n",
    "        pd_entity pd_render_onload pd_target=\"test\"> \n",
    "        </p>\n",
    "        \n",
    "        <td>\n",
    "        <p style=\"text-align: center;\"> Avg Students in Top 10% of Highschool Class</p>\n",
    "        <p>&nbsp;</p>\n",
    "        <p><div pd_options=\"handlerId=barChart;keyFields=Private;valueFields=Top10perc;aggregation=AVG;rendererId=bokeh;legend=true;chartsize=40\" \n",
    "        pd_entity pd_render_onload pd_target=\"test\"> \n",
    "        </td>\n",
    "        </tr>\n",
    "        <tr>\n",
    "        \n",
    "        <td>\n",
    "        <p style=\"text-align: center;\"> Avg Graduation Rate</p>\n",
    "        <p>&nbsp;</p>\n",
    "        <p><div pd_options=\"handlerId=barChart;keyFields=Private;valueFields=Grad.Rate;aggregation=AVG;rendererId=bokeh;legend=true;chartsize=40\" \n",
    "        pd_entity pd_render_onload pd_target=\"test\"> \n",
    "        </td>\n",
    "        <td>\n",
    "        \n",
    "        <p style=\"text-align: center;\"> Avg Room and Board Costs</p>\n",
    "        <p>&nbsp;</p>\n",
    "        <p><div pd_options=\"handlerId=barChart;keyFields=Private;valueFields=Room.Board;aggregation=AVG;rendererId=bokeh;legend=true;chartsize=40\" \n",
    "        pd_entity pd_render_onload pd_target=\"test\"> \n",
    "        </td>\n",
    "        </tr>\n",
    "        </tbody>\n",
    "        </table>\n",
    "        <p>&nbsp;</p>\n",
    "\n",
    "\"\"\"\n"
   ]
  },
  {
   "cell_type": "code",
   "execution_count": 15,
   "metadata": {
    "collapsed": false,
    "pixiedust": {
     "displayParams": {
      "targetDivId": "dialog92a05a09root"
     }
    }
   },
   "outputs": [
    {
     "data": {
      "text/html": [
       "<div class=\"pixiedust\" pixiedust=\"{&quot;prefix&quot;: &quot;7ad19151&quot;, &quot;command&quot;: &quot;display(CollegeData_instance,runInDialog=&apos;false&apos;,handlerId=&apos;__main___CollegeData_id&apos;,cell_id=&apos;63D2ABBE412F41AB9ADD388405ECD914&apos;,nostore_pixiedust=&apos;true&apos;,targetDivId=&apos;dialog92a05a09root&apos;,nostore_cw=&apos;1098&apos;,org_params=&apos;runInDialog,handlerId,nostore_pixiedust&apos;,nostore_bokeh=&apos;true&apos;)&quot;, &quot;options&quot;: {&quot;runInDialog&quot;: &quot;false&quot;, &quot;cell_id&quot;: &quot;63D2ABBE412F41AB9ADD388405ECD914&quot;, &quot;org_params&quot;: &quot;runInDialog,handlerId,nostore_pixiedust&quot;, &quot;nostore_cw&quot;: &quot;1098&quot;, &quot;handlerId&quot;: &quot;__main___CollegeData_id&quot;, &quot;targetDivId&quot;: &quot;dialog92a05a09root&quot;, &quot;nostore_bokeh&quot;: &quot;true&quot;, &quot;nostore_pixiedust&quot;: &quot;true&quot;, &quot;showchrome&quot;: &quot;true&quot;}}\">\n",
       "  <button class=\"btn btn-default btn-sm expandButton\" data-toggle=\"collapse\"\n",
       "          data-target=\"#pixiedust-output-wrapper-7ad19151\" title=\"Expand/Collapse Pixiedust output\">\n",
       "    <i class=\"fa\"></i>\n",
       "  </button>\n",
       "  <div id=\"pixiedust-output-wrapper-7ad19151\" class=\"pixiedust-output-wrapper collapse in\">\n",
       "    \n",
       "    <div id=\"wrapperJS7ad19151\"></div>\n",
       "    <div id=\"wrapperHTML7ad19151\" class=\"pixiedustWrapperHTML\" style=\"min-height:100px\"></div>\n",
       "  </div>\n",
       "</div>\n",
       "                    <script>\n",
       "                    (\n",
       "\n",
       "\n",
       "function() {\n",
       "    function getTargetNode(){\n",
       "        var n = $('#' + 'wrapperHTML7ad19151');\n",
       "        if (n.length == 0 ){\n",
       "            n = $('#wrapperHTML7ad19151');\n",
       "        }\n",
       "        return n;\n",
       "    }\n",
       "    cellId = typeof cellId === \"undefined\" ? \"\" : cellId;\n",
       "    var curCell=IPython.notebook.get_cells().filter(function(cell){\n",
       "        return cell.cell_id==\"63D2ABBE412F41AB9ADD388405ECD914\".replace(\"cellId\",cellId);\n",
       "    });\n",
       "    curCell=curCell.length>0?curCell[0]:null;\n",
       "    console.log(\"curCell\",curCell);\n",
       "    var startWallToWall;\n",
       "    //Resend the display command\n",
       "    var callbacks = {\n",
       "        shell : {\n",
       "            payload : {\n",
       "                set_next_input : function(payload){\n",
       "                    if (curCell){\n",
       "                        curCell._handle_set_next_input(payload);\n",
       "                    }\n",
       "                }\n",
       "            }\n",
       "        },\n",
       "        iopub:{\n",
       "            output:function(msg){\n",
       "                console.log(\"msg\", msg);\n",
       "                if (false){\n",
       "                    curCell.output_area.clear_output(false, true);\n",
       "                    curCell.output_area.handle_output.apply(curCell.output_area, arguments);\n",
       "                    return;\n",
       "                }\n",
       "                var msg_type=msg.header.msg_type;\n",
       "                var content = msg.content;\n",
       "                var executionTime = $(\"#execution7ad19151\");\n",
       "                if(msg_type===\"stream\"){\n",
       "                    getTargetNode().html(content.text);\n",
       "                }else if (msg_type===\"display_data\" || msg_type===\"execute_result\"){\n",
       "                    var html=null;\n",
       "                    if (!!content.data[\"text/html\"]){\n",
       "                        html=content.data[\"text/html\"];\n",
       "                    }else if (!!content.data[\"image/png\"]){\n",
       "                        html=html||\"\";\n",
       "                        html+=\"<img src='data:image/png;base64,\" +content.data[\"image/png\"]+\"'></img>\";\n",
       "                    }\n",
       "                                                    \n",
       "                    if (!!content.data[\"application/javascript\"]){\n",
       "                        try {\n",
       "                            eval(content.data[\"application/javascript\"]);\n",
       "                        } catch(err) {\n",
       "                            curCell.output_area.handle_output.apply(curCell.output_area, arguments);\n",
       "                        }                        \n",
       "                        return;\n",
       "                    }\n",
       "                    \n",
       "                    if (html){\n",
       "                        try{\n",
       "                            getTargetNode().html(html);\n",
       "                        }catch(e){\n",
       "                            console.log(\"Invalid html output\", e, html);\n",
       "                            getTargetNode().html( \"Invalid html output: \" + e.message + \"<pre>\" \n",
       "                                + html.replace(/>/g,'&gt;').replace(/</g,'&lt;').replace(/\"/g,'&quot;') + \"<pre>\");\n",
       "                        }\n",
       "\n",
       "                        if(curCell&&curCell.output_area&&curCell.output_area.outputs){\n",
       "                            setTimeout(function(){\n",
       "                                var data = JSON.parse(JSON.stringify(content.data));\n",
       "                                if(!!data[\"text/html\"])data[\"text/html\"]=html;\n",
       "                                function savedData(data){\n",
       "                                    \n",
       "                                    var markup='<style type=\"text/css\">.pd_warning{display:none;}</style>';\n",
       "                                    markup+='<div class=\"pd_warning\"><em>Hey, there\\'s something awesome here! To see it, open this notebook outside GitHub, in a viewer like Jupyter</em></div>';\n",
       "                                    nodes = $.parseHTML(data[\"text/html\"], null, true);\n",
       "                                    var s = $(nodes).wrap(\"<div>\").parent().find(\".pd_save\").not(\".pd_save .pd_save\")\n",
       "                                    s.each(function(){\n",
       "                                        var found = false;\n",
       "                                        if ( $(this).attr(\"id\") ){\n",
       "                                            var n = $(\"#\" + $(this).attr(\"id\"));\n",
       "                                            if (n.length>0){\n",
       "                                                found=true;\n",
       "                                                n.each(function(){\n",
       "                                                    $(this).addClass(\"is-viewer-good\");\n",
       "                                                });\n",
       "                                                markup+=n.wrap(\"<div>\").parent().html();\n",
       "                                            }\n",
       "                                        }else{\n",
       "                                            $(this).addClass(\"is-viewer-good\");\n",
       "                                        }\n",
       "                                        if (!found){\n",
       "                                            markup+=$(this).parent().html();\n",
       "                                        }\n",
       "                                    });\n",
       "                                    data[\"text/html\"] = markup;\n",
       "                                    return data;\n",
       "                                }\n",
       "                                curCell.output_area.outputs.push({\"data\": savedData(data),\"metadata\":content.metadata,\"output_type\":msg_type});\n",
       "                            },2000);\n",
       "                        }\n",
       "                    }\n",
       "                }else if (msg_type === \"error\") {\n",
       "                    require(['base/js/utils'], function(utils) {\n",
       "                        var tb = content.traceback;\n",
       "                        console.log(\"tb\",tb);\n",
       "                        if (tb && tb.length>0){\n",
       "                            var data = tb.reduce(function(res, frame){return res+frame+'\\\\n';},\"\");\n",
       "                            console.log(\"data\",data);\n",
       "                            data = utils.fixConsole(data);\n",
       "                            data = utils.fixCarriageReturn(data);\n",
       "                            data = utils.autoLinkUrls(data);\n",
       "                            getTargetNode().html(\"<pre>\" + data +\"</pre>\");\n",
       "                        }\n",
       "                    });\n",
       "                }\n",
       "\n",
       "                //Append profiling info\n",
       "                if (executionTime.length > 0 && $(\"#execution7ad19151\").length == 0 ){\n",
       "                    getTargetNode().append(executionTime);\n",
       "                }else if (startWallToWall && $(\"#execution7ad19151\").length > 0 ){\n",
       "                    $(\"#execution7ad19151\").append($(\"<div/>\").text(\"Wall to Wall time: \" + ( (new Date().getTime() - startWallToWall)/1000 ) + \"s\"));\n",
       "                }\n",
       "\n",
       "                if (typeof onDisplayDone7ad19151 != \"undefined\"){\n",
       "                    onDisplayDone7ad19151();\n",
       "                }\n",
       "                $(document).trigger('pd_event', {type:\"pd_load\", targetNode: getTargetNode()});\n",
       "            }\n",
       "        }\n",
       "    }\n",
       "    \n",
       "    if (IPython && IPython.notebook && IPython.notebook.session && IPython.notebook.session.kernel){\n",
       "        var command = \"display(CollegeData_instance,runInDialog='false',handlerId='__main___CollegeData_id',cell_id='63D2ABBE412F41AB9ADD388405ECD914',nostore_pixiedust='true',targetDivId='dialog92a05a09root',nostore_cw='1098',org_params='runInDialog,handlerId,nostore_pixiedust',nostore_bokeh='true',prefix='7ad19151')\".replace(\"cellId\",cellId);\n",
       "        function addOptions(options, override=true){\n",
       "            function getStringRep(v) {\n",
       "                return \"'\" + v + \"'\";\n",
       "            }\n",
       "            for (var key in (options||{})){\n",
       "                var value = options[key];\n",
       "                var hasValue = value != null && typeof value !== 'undefined' && value !== '';\n",
       "                var replaceValue = hasValue ? (key+\"=\" + getStringRep(value) ) : \"\";\n",
       "                var pattern = (hasValue?\"\":\",\")+\"\\\\s*\" + key + \"\\\\s*=\\\\s*'(\\\\\\\\'|[^'])*'\";\n",
       "                var rpattern=new RegExp(pattern);\n",
       "                var n = command.search(rpattern);\n",
       "                if ( n >= 0 ){\n",
       "                    if (override){\n",
       "                        command = command.replace(rpattern, replaceValue);\n",
       "                    }\n",
       "                }else if (hasValue){\n",
       "                    var n = command.lastIndexOf(\")\");\n",
       "                    command = [command.slice(0, n), (command[n-1]==\"(\"? \"\":\",\") + replaceValue, command.slice(n)].join('')\n",
       "                }        \n",
       "            }\n",
       "        }\n",
       "        if(typeof cellMetadata != \"undefined\" && cellMetadata.displayParams){\n",
       "            addOptions(cellMetadata.displayParams);\n",
       "        }else if (curCell && curCell._metadata.pixiedust ){\n",
       "            addOptions(curCell._metadata.pixiedust.displayParams || {}, ('False'=='True') );\n",
       "        }\n",
       "        addOptions({});\n",
       "        \n",
       "        \n",
       "    \n",
       "\n",
       "        \n",
       "        $('#wrapperJS7ad19151').html(\"\")\n",
       "        getTargetNode().html('<div style=\"width:100px;height:60px;left:47%;position:relative\"><i class=\"fa fa-circle-o-notch fa-spin\" style=\"font-size:48px\"></i></div>'+\n",
       "        '<div style=\"text-align:center\">Loading your data. Please wait...</div>');\n",
       "        startWallToWall = new Date().getTime();\n",
       "        \n",
       "        console.log(\"Running command2\",command);\n",
       "        IPython.notebook.session.kernel.execute(command, callbacks, {silent:true,store_history:false,stop_on_error:true});\n",
       "    }\n",
       "}\n",
       ")();\n",
       "                    </script>\n",
       "                </div>"
      ],
      "text/plain": [
       "<IPython.core.display.HTML object>"
      ]
     },
     "metadata": {},
     "output_type": "display_data"
    },
    {
     "data": {
      "text/html": [
       "<style type=\"text/css\">.pd_warning{display:none;}</style><div class=\"pd_warning\"><em>Hey, there's something awesome here! To see it, open this notebook outside GitHub, in a viewer like Jupyter</em></div>"
      ],
      "text/plain": [
       "<IPython.core.display.HTML object>"
      ]
     },
     "metadata": {},
     "output_type": "display_data"
    },
    {
     "data": {
      "text/html": [
       "<style type=\"text/css\">.pd_warning{display:none;}</style><div class=\"pd_warning\"><em>Hey, there's something awesome here! To see it, open this notebook outside GitHub, in a viewer like Jupyter</em></div>"
      ],
      "text/plain": [
       "<IPython.core.display.HTML object>"
      ]
     },
     "metadata": {},
     "output_type": "display_data"
    },
    {
     "data": {
      "text/html": [
       "<style type=\"text/css\">.pd_warning{display:none;}</style><div class=\"pd_warning\"><em>Hey, there's something awesome here! To see it, open this notebook outside GitHub, in a viewer like Jupyter</em></div>"
      ],
      "text/plain": [
       "<IPython.core.display.HTML object>"
      ]
     },
     "metadata": {},
     "output_type": "display_data"
    },
    {
     "data": {
      "text/html": [
       "<style type=\"text/css\">.pd_warning{display:none;}</style><div class=\"pd_warning\"><em>Hey, there's something awesome here! To see it, open this notebook outside GitHub, in a viewer like Jupyter</em></div>"
      ],
      "text/plain": [
       "<IPython.core.display.HTML object>"
      ]
     },
     "metadata": {},
     "output_type": "display_data"
    },
    {
     "data": {
      "text/html": [
       "<style type=\"text/css\">.pd_warning{display:none;}</style><div class=\"pd_warning\"><em>Hey, there's something awesome here! To see it, open this notebook outside GitHub, in a viewer like Jupyter</em></div>"
      ],
      "text/plain": [
       "<IPython.core.display.HTML object>"
      ]
     },
     "metadata": {},
     "output_type": "display_data"
    }
   ],
   "source": [
    "# Run the app\n",
    "CollegeData().run(collegedata, runInDialog='false')"
   ]
  },
  {
   "cell_type": "code",
   "execution_count": null,
   "metadata": {
    "collapsed": true
   },
   "outputs": [],
   "source": []
  }
 ],
 "metadata": {
  "kernelspec": {
   "display_name": "Python 2",
   "language": "python",
   "name": "python2"
  },
  "language_info": {
   "codemirror_mode": {
    "name": "ipython",
    "version": 2
   },
   "file_extension": ".py",
   "mimetype": "text/x-python",
   "name": "python",
   "nbconvert_exporter": "python",
   "pygments_lexer": "ipython2",
   "version": "2.7.11"
  }
 },
 "nbformat": 4,
 "nbformat_minor": 0
}
